# Research Problem

Restaurant businesses are highly competitive in Philadelphia, and customer reviews play a critical role in their survival. However, the vast amount of Yelp review data is unstructured and difficult to analyze manually. There is a need to use data-driven approaches to analyze customer sentiments, identify key factors influencing restaurant ratings, and provide insights for business improvement.  

# Objectives

1. To preprocess and clean Yelp review data for restaurants in Philadelphia.  
2. To analyze the distribution of restaurant ratings and customer sentiments.  
3. To identify the most common positive and negative aspects of customer reviews.  
4. To build predictive models for restaurant ratings based on review text and metadata.  
5. To provide business insights and recommendations for restaurant owners using data visualization and machine learning techniques.  

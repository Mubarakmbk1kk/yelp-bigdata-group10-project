Research Problem
Restaurant businesses are highly competitive in Philadelphia, and customer reviews play a critical role in their survival. However, the vast amount of Yelp review data is unstructured and difficult to analyze manually. There is a need to use data-driven approaches to analyze customer sentiments, identify key factors influencing restaurant ratings, and provide insights for business improvement.

Objectives (what we will achieve in this project):

To preprocess and clean Yelp review data for restaurants in Philadelphia.

To analyze the distribution of restaurant ratings and customer sentiments.

To identify the most common positive and negative aspects of customer reviews.

To build predictive models for restaurant ratings based on review text and metadata.

To provide business insights and recommendations for restaurant owners using data visualization and machine learning techniques.


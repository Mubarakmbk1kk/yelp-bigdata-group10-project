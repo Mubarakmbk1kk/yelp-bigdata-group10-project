{
  "cells": [
    {
      "cell_type": "markdown",
      "metadata": {
        "id": "w1KeRzEALQm5"
      },
      "source": [
        "# Research Problem\n",
        "\n",
        "Restaurant businesses are highly competitive in Philadelphia, and customer reviews play a critical role in their survival. However, the vast amount of Yelp review data is unstructured and difficult to analyze manually. There is a need to use data-driven approaches to analyze customer sentiments, identify key factors influencing restaurant ratings, and provide insights for business improvement.  \n",
        "\n",
        "# Objectives\n",
        "\n",
        "1. To preprocess and clean Yelp review data for restaurants in Philadelphia.  \n",
        "2. To analyze the distribution of restaurant ratings and customer sentiments.  \n",
        "3. To identify the most common positive and negative aspects of customer reviews.  \n",
        "4. To build predictive models for restaurant ratings based on review text and metadata.  \n",
        "5. To provide business insights and recommendations for restaurant owners using data visualization and machine learning techniques.  \n"
      ]
    },
    {
      "cell_type": "code",
      "execution_count": null,
      "metadata": {
        "id": "LZR-l226LQnF"
      },
      "outputs": [],
      "source": [
        "# TODO: paste kaggle download and Spark read/save code here\n",
        "print('Replace this cell with ingestion code')"
      ]
    }
  ],
  "metadata": {
    "kernelspec": {
      "display_name": "Python 3",
      "language": "python",
      "name": "python3"
    },
    "language_info": {
      "name": "python"
    },
    "colab": {
      "provenance": []
    }
  },
  "nbformat": 4,
  "nbformat_minor": 0
}